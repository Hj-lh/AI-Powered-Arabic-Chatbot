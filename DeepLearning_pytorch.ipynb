{
  "nbformat": 4,
  "nbformat_minor": 0,
  "metadata": {
    "colab": {
      "provenance": [],
      "authorship_tag": "ABX9TyOzTypXwEd8ZGZYe2yZQkFf",
      "include_colab_link": true
    },
    "kernelspec": {
      "name": "python3",
      "display_name": "Python 3"
    },
    "language_info": {
      "name": "python"
    }
  },
  "cells": [
    {
      "cell_type": "markdown",
      "metadata": {
        "id": "view-in-github",
        "colab_type": "text"
      },
      "source": [
        "<a href=\"https://colab.research.google.com/github/Hj-lh/AI-Powered-Arabic-Chatbot-with-NLP/blob/main/DeepLearning_pytorch.ipynb\" target=\"_parent\"><img src=\"https://colab.research.google.com/assets/colab-badge.svg\" alt=\"Open In Colab\"/></a>"
      ]
    },
    {
      "cell_type": "code",
      "execution_count": 1,
      "metadata": {
        "colab": {
          "base_uri": "https://localhost:8080/"
        },
        "id": "bLyL1JW2Y4lU",
        "outputId": "d3a1a8ce-66b7-4957-a89c-553db5aeb62d"
      },
      "outputs": [
        {
          "output_type": "execute_result",
          "data": {
            "text/plain": [
              "4"
            ]
          },
          "metadata": {},
          "execution_count": 1
        }
      ],
      "source": [
        "2+2"
      ]
    },
    {
      "cell_type": "code",
      "source": [
        "import torch\n",
        "import numpy as np"
      ],
      "metadata": {
        "id": "bnUlfqJFcagn"
      },
      "execution_count": 2,
      "outputs": []
    },
    {
      "cell_type": "code",
      "source": [
        "n = np.random.randn(2,3)\n",
        "print(n)\n",
        "\n",
        "t = torch.randn(2,3)\n",
        "\n",
        "print(t)"
      ],
      "metadata": {
        "id": "WzszSwjYcbfm",
        "colab": {
          "base_uri": "https://localhost:8080/"
        },
        "outputId": "564308e7-84d8-47d5-866b-ef0442318824"
      },
      "execution_count": 3,
      "outputs": [
        {
          "output_type": "stream",
          "name": "stdout",
          "text": [
            "[[ 1.43393411 -0.95832165  0.04156187]\n",
            " [ 0.87490143  1.09275681  0.07244518]]\n",
            "tensor([[-0.3025, -0.1196, -0.2670],\n",
            "        [ 0.9322, -0.8495, -1.0356]])\n"
          ]
        }
      ]
    },
    {
      "cell_type": "code",
      "source": [
        "t3 = torch.zeros(2,3,4)\n",
        "print(t3)\n",
        "torch.arange(10)"
      ],
      "metadata": {
        "colab": {
          "base_uri": "https://localhost:8080/"
        },
        "id": "dRd5KX1ihMp0",
        "outputId": "2d5aba15-922e-400c-8646-2bda9043304a"
      },
      "execution_count": 5,
      "outputs": [
        {
          "output_type": "stream",
          "name": "stdout",
          "text": [
            "tensor([[[0., 0., 0., 0.],\n",
            "         [0., 0., 0., 0.],\n",
            "         [0., 0., 0., 0.]],\n",
            "\n",
            "        [[0., 0., 0., 0.],\n",
            "         [0., 0., 0., 0.],\n",
            "         [0., 0., 0., 0.]]])\n"
          ]
        },
        {
          "output_type": "execute_result",
          "data": {
            "text/plain": [
              "tensor([0, 1, 2, 3, 4, 5, 6, 7, 8, 9])"
            ]
          },
          "metadata": {},
          "execution_count": 5
        }
      ]
    },
    {
      "cell_type": "code",
      "source": [
        "resh=t.reshape(3,-1)#-1 if we don't know the number of item\n",
        "print(resh)"
      ],
      "metadata": {
        "id": "mMHG4weniFMG",
        "colab": {
          "base_uri": "https://localhost:8080/"
        },
        "outputId": "9f98605a-c0fa-445f-c86d-19a89c0da791"
      },
      "execution_count": 19,
      "outputs": [
        {
          "output_type": "stream",
          "name": "stdout",
          "text": [
            "tensor([[-0.3025, -0.1196],\n",
            "        [-0.2670,  0.9322],\n",
            "        [-0.8495, -1.0356]])\n"
          ]
        }
      ]
    },
    {
      "cell_type": "code",
      "source": [],
      "metadata": {
        "id": "gGoMyv7LR6GJ"
      },
      "execution_count": null,
      "outputs": []
    }
  ]
}